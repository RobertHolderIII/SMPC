{
 "cells": [
  {
   "cell_type": "markdown",
   "id": "cf911854-1707-4126-bd9c-53de9489cbcb",
   "metadata": {},
   "source": [
    "## Utility functions\n",
    "\n",
    "First we set up some utility functions to do bitwise XOR and encryption functions"
   ]
  },
  {
   "cell_type": "code",
   "execution_count": 1,
   "id": "f3b674ec-7acf-490e-a053-374005a7d407",
   "metadata": {},
   "outputs": [],
   "source": [
    "from Crypto.Cipher import AES\n",
    "\n",
    "def xor(ba1, ba2):\n",
    "    return bytes([_a ^ _b for _a, _b in zip(ba1, ba2)])\n",
    "\n",
    "def encrypt(data, key):\n",
    "    nonce = b'sixteen.........'\n",
    "    return AES.new(key, AES.MODE_EAX, nonce=nonce).encrypt(data)\n",
    "\n",
    "def decrypt(ct, key):\n",
    "    nonce = b'sixteen.........'\n",
    "    return AES.new(key, AES.MODE_EAX, nonce=nonce).decrypt(ct)"
   ]
  },
  {
   "cell_type": "markdown",
   "id": "0a730fb0-af7d-4868-a512-5e73fa6c7017",
   "metadata": {},
   "source": [
    "## Generator operations\n",
    "`c_0` and `c_1` are the two subcircuit branches.\n",
    "\n",
    "`s_0` and `s_1` are the two labels representing possible values of the wire that determines the active branch.\n",
    "\n",
    "We will create the material for `c_{0,1}` by encrypting with the label for the *other* subcircuit, `s_{1,0}`.\n",
    "\n",
    "Finally, the generator will stack both branches, and send `m_cond = m_0 XOR m_1`\n",
    "\n"
   ]
  },
  {
   "cell_type": "code",
   "execution_count": 2,
   "id": "3fee1cdb-5937-42ee-90c3-617a62182ec5",
   "metadata": {},
   "outputs": [
    {
     "name": "stdout",
     "output_type": "stream",
     "text": [
      "m_0=b'7\\x8b\\x01\\xd5v\\x91\\\\\\x147\\x1b\\xb1\\x171\\x02=,a'\n",
      "\n",
      "m_1=b'D\\x9f]\\xdd\\x11\\xeb\\xb4\\xec\\x92iE\\xfa.q)S+'\n",
      "\n",
      "m_cond=b's\\x14\\\\\\x08gz\\xe8\\xf8\\xa5r\\xf4\\xed\\x1fs\\x14\\x7fJ'\n"
     ]
    }
   ],
   "source": [
    "# adding junk at the end so the encryptions are more syntactically dissimilar\n",
    "c_0, c_1 = b'subcircuit-0..qwe', b'subcircuit-1..iop' \n",
    "s_0, s_1 = b'label-0.000....q', b'label-1.111....w'\n",
    "\n",
    "# encrypt c_0 with key s_1\n",
    "m_0 = encrypt(c_0, key=s_1)\n",
    "\n",
    "# encrypt c_1 with key s_0\n",
    "m_1 = encrypt(c_1, key=s_0)\n",
    "\n",
    "# this is the material representing the stacked branches\n",
    "m_cond = xor(m_0, m_1)\n",
    "\n",
    "print(f'{m_0=}\\n\\n{m_1=}\\n\\n{m_cond=}')"
   ]
  },
  {
   "cell_type": "markdown",
   "id": "87dbaf30-d10e-49c9-98c6-665bea6c87ee",
   "metadata": {},
   "source": [
    "## Evaluator operations\n",
    "\n",
    "The evaluator receives label `S` representing the branch to execute.  However, the evaluator does not know whether `S` equals `s_0` or `s_1`. Thus, the evaluator performs an execution under each assumption, retrieving two material results, one representing the active branch and the other being garbage. The evaluator cannot know which is which, so we need to do a oblivious demux. (TODO)"
   ]
  },
  {
   "cell_type": "markdown",
   "id": "58e9549f-fdd8-495d-adaa-05ea0d3c933b",
   "metadata": {},
   "source": [
    "#### Here we assume branch 0 is the active branch"
   ]
  },
  {
   "cell_type": "code",
   "execution_count": 3,
   "id": "e5505ff7-0e79-4483-a69b-4699820cc465",
   "metadata": {},
   "outputs": [
    {
     "name": "stdout",
     "output_type": "stream",
     "text": [
      "assuming S=s_0, we try to recover m_0:\n",
      "candidate_m_0=b'7\\x8b\\x01\\xd5v\\x91\\\\\\x147\\x1b\\xb1\\x171\\x02=,a'\n",
      "should match\n",
      "m_0=b'7\\x8b\\x01\\xd5v\\x91\\\\\\x147\\x1b\\xb1\\x171\\x02=,a'\n",
      ">>> candidate_m_0==m_0=True\n",
      "\n",
      "if we were wrong and S=s_1, we get garbage\n",
      "candidate_m_0_garbage=b'D\\x9f]\\xdd\\x11\\xeb\\xb4\\xec\\x92iE\\xfb.q1K>'\n",
      "should NOT match\n",
      "m_0=b'7\\x8b\\x01\\xd5v\\x91\\\\\\x147\\x1b\\xb1\\x171\\x02=,a'\n",
      ">>> candidate_m_0_garbage==m_0=False\n"
     ]
    }
   ],
   "source": [
    "# assumme S = s_0\n",
    "S = s_0\n",
    "\n",
    "# encrypt c_1 with the presumptive s_0 key to recover m_0\n",
    "eval_m_1 = encrypt(c_1, key=S)\n",
    "candidate_m_0 = xor(m_cond, eval_m_1)\n",
    "print('assuming S=s_0, we try to recover m_0:')\n",
    "print(f'{candidate_m_0=}\\nshould match\\n{m_0=}')\n",
    "print(f'>>> {candidate_m_0==m_0=}')\n",
    "\n",
    "# if it turns out that S was not s_0, then we get garbage\n",
    "S = s_1\n",
    "eval_m_1_garbage = encrypt(c_1, key=S)\n",
    "candidate_m_0_garbage = xor(m_cond, eval_m_1_garbage)\n",
    "print('\\nif we were wrong and S=s_1, we get garbage')\n",
    "print(f'{candidate_m_0_garbage=}\\nshould NOT match\\n{m_0=}')\n",
    "print(f'>>> {candidate_m_0_garbage==m_0=}')"
   ]
  },
  {
   "cell_type": "markdown",
   "id": "72f83fe7-371b-42cd-b170-dbe12bc579c0",
   "metadata": {},
   "source": [
    "#### Here we assume branch 1 is the active branch"
   ]
  },
  {
   "cell_type": "code",
   "execution_count": 4,
   "id": "1223aa8a-b4f7-4226-a7e4-6668cec19653",
   "metadata": {},
   "outputs": [
    {
     "name": "stdout",
     "output_type": "stream",
     "text": [
      "assuming S=s_1, we try to recover m_1:\n",
      "candidate_m_1=b'D\\x9f]\\xdd\\x11\\xeb\\xb4\\xec\\x92iE\\xfa.q)S+'\n",
      "should match\n",
      "m_1=b'D\\x9f]\\xdd\\x11\\xeb\\xb4\\xec\\x92iE\\xfa.q)S+'\n",
      ">>> candidate_m_1==m_1=True\n",
      "\n",
      "if we were wrong and S=s_0, we get garbage\n",
      "candidate_m_1_garbage=b'7\\x8b\\x01\\xd5v\\x91\\\\\\x147\\x1b\\xb1\\x161\\x02%4t'\n",
      "should NOT match\n",
      "m_1=b'D\\x9f]\\xdd\\x11\\xeb\\xb4\\xec\\x92iE\\xfa.q)S+'\n",
      ">>> candidate_m_1_garbage==m_1=False\n"
     ]
    }
   ],
   "source": [
    "# assume S = s_1\n",
    "S = s_1\n",
    "\n",
    "# encrypt c_0 with the presumptive s_1 key to recover m_1\n",
    "eval_m_0 = encrypt(c_0, key=S)\n",
    "candidate_m_1 = xor(m_cond, eval_m_0)\n",
    "print('assuming S=s_1, we try to recover m_1:')\n",
    "print(f'{candidate_m_1=}\\nshould match\\n{m_1=}')\n",
    "print(f'>>> {candidate_m_1==m_1=}')\n",
    "\n",
    "# if it turns out that S was not s_1, then we get garbage\n",
    "S = s_0\n",
    "eval_m_0_garbage = encrypt(c_0, key=S)\n",
    "candidate_m_1_garbage = xor(m_cond, eval_m_0_garbage)\n",
    "print('\\nif we were wrong and S=s_0, we get garbage')\n",
    "print(f'{candidate_m_1_garbage=}\\nshould NOT match\\n{m_1=}')\n",
    "print(f'>>> {candidate_m_1_garbage==m_1=}')"
   ]
  },
  {
   "cell_type": "markdown",
   "id": "45b87bf5-7857-4070-b6ff-cac642105745",
   "metadata": {},
   "source": [
    "## Sanity check\n",
    "Confirm that candidates are what we expect (although the candidates match the original messages, so this is trivially true)"
   ]
  },
  {
   "cell_type": "code",
   "execution_count": 5,
   "id": "526f3a27-42a9-473c-a8d5-b92eaf8617ca",
   "metadata": {},
   "outputs": [
    {
     "data": {
      "text/plain": [
       "b'subcircuit-1..iop'"
      ]
     },
     "execution_count": 5,
     "metadata": {},
     "output_type": "execute_result"
    }
   ],
   "source": [
    "decrypt(candidate_m_1, key=s_0)"
   ]
  },
  {
   "cell_type": "code",
   "execution_count": 6,
   "id": "78200bed-4c47-4581-ab5d-8080dd4b73d7",
   "metadata": {},
   "outputs": [
    {
     "data": {
      "text/plain": [
       "b'subcircuit-0..qwe'"
      ]
     },
     "execution_count": 6,
     "metadata": {},
     "output_type": "execute_result"
    }
   ],
   "source": [
    "decrypt(candidate_m_0, key=s_1)"
   ]
  },
  {
   "cell_type": "markdown",
   "id": "c2e0857d-b3db-453b-86aa-058944647929",
   "metadata": {},
   "source": [
    "## Demux\n",
    "Recall that the Evaluator does not know which candidate is the active branch and which is garbage.  Here we do an oblivious demux to recover the active branch"
   ]
  },
  {
   "cell_type": "code",
   "execution_count": 7,
   "id": "af22fd08-92b8-4cad-9d10-6b923839da98",
   "metadata": {},
   "outputs": [],
   "source": [
    "# TODO"
   ]
  }
 ],
 "metadata": {
  "kernelspec": {
   "display_name": "Python 3 (ipykernel)",
   "language": "python",
   "name": "python3"
  },
  "language_info": {
   "codemirror_mode": {
    "name": "ipython",
    "version": 3
   },
   "file_extension": ".py",
   "mimetype": "text/x-python",
   "name": "python",
   "nbconvert_exporter": "python",
   "pygments_lexer": "ipython3",
   "version": "3.13.2"
  }
 },
 "nbformat": 4,
 "nbformat_minor": 5
}
