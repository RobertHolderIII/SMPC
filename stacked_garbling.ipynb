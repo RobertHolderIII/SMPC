{
 "cells": [
  {
   "cell_type": "code",
   "execution_count": 22,
   "id": "f3b674ec-7acf-490e-a053-374005a7d407",
   "metadata": {},
   "outputs": [],
   "source": [
    "from Crypto.Cipher import AES\n",
    "\n",
    "def xor(ba1, ba2):\n",
    "    return bytes([_a ^ _b for _a, _b in zip(ba1, ba2)])\n",
    "\n",
    "def encrypt(data, key):\n",
    "    nonce = b'sixteen.........'\n",
    "    return AES.new(key, AES.MODE_EAX, nonce=nonce).encrypt(data)\n",
    "\n",
    "def decrypt(ct, key):\n",
    "    nonce = b'sixteen.........'\n",
    "    return AES.new(key, AES.MODE_EAX, nonce=nonce).decrypt(ct)"
   ]
  },
  {
   "cell_type": "code",
   "execution_count": 23,
   "id": "3fee1cdb-5937-42ee-90c3-617a62182ec5",
   "metadata": {},
   "outputs": [
    {
     "data": {
      "text/plain": [
       "(b'7\\x8b\\x01\\xd5v\\x91\\\\\\x147\\x1b\\xb1\\x171\\x02=,a',\n",
       " b'D\\x9f]\\xdd\\x11\\xeb\\xb4\\xec\\x92iE\\xfa.q)S+',\n",
       " b's\\x14\\\\\\x08gz\\xe8\\xf8\\xa5r\\xf4\\xed\\x1fs\\x14\\x7fJ')"
      ]
     },
     "execution_count": 23,
     "metadata": {},
     "output_type": "execute_result"
    }
   ],
   "source": [
    "# adding junk at the end so the encryptions are more syntactically dissimilar\n",
    "c_0, c_1 = b'subcircuit-0..qwe', b'subcircuit-1..iop' \n",
    "s_0, s_1 = b'label-0.000....q', b'label-1.111....w'\n",
    "\n",
    "# GEN\n",
    "\n",
    "# encrypt c_0 with key s_1\n",
    "m_0 = encrypt(c_0, key=s_1)\n",
    "\n",
    "# encrypt c_1 with key s_0\n",
    "m_1 = encrypt(c_1, key=s_0)\n",
    "\n",
    "m_cond = xor(m_0, m_1)\n",
    "m_0, m_1, m_cond"
   ]
  },
  {
   "cell_type": "code",
   "execution_count": 25,
   "id": "dcea74f6-8e63-4c0c-8973-4b8819823d4f",
   "metadata": {},
   "outputs": [
    {
     "data": {
      "text/plain": [
       "(b'D\\x9f]\\xdd\\x11\\xeb\\xb4\\xec\\x92iE\\xfb.q1K>',\n",
       " False,\n",
       " b'D\\x9f]\\xdd\\x11\\xeb\\xb4\\xec\\x92iE\\xfa.q)S+',\n",
       " True)"
      ]
     },
     "execution_count": 25,
     "metadata": {},
     "output_type": "execute_result"
    }
   ],
   "source": [
    "# EVAL\n",
    "S = s_1\n",
    "\n",
    "# encrypt c_1 with the unknown key to recover m_0 or garbage\n",
    "eval_m_1 = encrypt(c_1, key=S)\n",
    "candidate_m_0 = xor(m_cond, eval_m_1)\n",
    "\n",
    "# encrypt c_0 with the unknown key to recover m_1 or garbage\n",
    "eval_m_0 = encrypt(c_0, key=S)\n",
    "candidate_m_1 = xor(m_cond, eval_m_0)\n",
    "\n",
    "candidate_m_0, m_0 == candidate_m_0,\\\n",
    "candidate_m_1, m_1 == candidate_m_1"
   ]
  },
  {
   "cell_type": "code",
   "execution_count": 27,
   "id": "526f3a27-42a9-473c-a8d5-b92eaf8617ca",
   "metadata": {},
   "outputs": [
    {
     "data": {
      "text/plain": [
       "(b'subcircuit-0..qwe', b'subcircuit-1..iop')"
      ]
     },
     "execution_count": 27,
     "metadata": {},
     "output_type": "execute_result"
    }
   ],
   "source": [
    "decrypt(candidate_m_0, key=s_0), decrypt(candidate_m_1, key=s_0)"
   ]
  },
  {
   "cell_type": "code",
   "execution_count": 28,
   "id": "78200bed-4c47-4581-ab5d-8080dd4b73d7",
   "metadata": {},
   "outputs": [
    {
     "data": {
      "text/plain": [
       "(b'\\x00a>k\\x0e\\x08\\x8b\\x8d\\xcc\\x06\\xd9\\xdc1]}\\x10:',\n",
       " b'\\x00a>k\\x0e\\x08\\x8b\\x8d\\xcc\\x06\\xd9\\xdd1]e\\x08/')"
      ]
     },
     "execution_count": 28,
     "metadata": {},
     "output_type": "execute_result"
    }
   ],
   "source": [
    "decrypt(candidate_m_0, key=s_1), decrypt(candidate_m_1, key=s_1)"
   ]
  },
  {
   "cell_type": "code",
   "execution_count": null,
   "id": "af22fd08-92b8-4cad-9d10-6b923839da98",
   "metadata": {},
   "outputs": [],
   "source": []
  }
 ],
 "metadata": {
  "kernelspec": {
   "display_name": "Python 3 (ipykernel)",
   "language": "python",
   "name": "python3"
  },
  "language_info": {
   "codemirror_mode": {
    "name": "ipython",
    "version": 3
   },
   "file_extension": ".py",
   "mimetype": "text/x-python",
   "name": "python",
   "nbconvert_exporter": "python",
   "pygments_lexer": "ipython3",
   "version": "3.12.9"
  }
 },
 "nbformat": 4,
 "nbformat_minor": 5
}
